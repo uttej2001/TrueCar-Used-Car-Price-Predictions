{
 "cells": [
  {
   "cell_type": "code",
   "execution_count": 1,
   "id": "a867ab09",
   "metadata": {},
   "outputs": [
    {
     "name": "stdout",
     "output_type": "stream",
     "text": [
      "['/device:CPU:0', '/device:GPU:0']\n"
     ]
    }
   ],
   "source": [
    "from tensorflow.python.client import device_lib\n",
    "\n",
    "def get_available_devices():\n",
    "    local_device_protos = device_lib.list_local_devices()\n",
    "    return [x.name for x in local_device_protos]\n",
    "\n",
    "print(get_available_devices())"
   ]
  },
  {
   "cell_type": "markdown",
   "id": "e186060d",
   "metadata": {},
   "source": [
    "# Importing libraries"
   ]
  },
  {
   "cell_type": "code",
   "execution_count": 2,
   "id": "59d51ff0",
   "metadata": {},
   "outputs": [],
   "source": [
    "import pandas as pd\n",
    "import numpy as np\n",
    "import matplotlib.pyplot as plt\n",
    "import seaborn as sns"
   ]
  },
  {
   "cell_type": "code",
   "execution_count": 3,
   "id": "15046d99",
   "metadata": {},
   "outputs": [],
   "source": [
    "from sklearn.preprocessing import OneHotEncoder\n",
    "from sklearn.model_selection import GridSearchCV\n",
    "from sklearn.metrics import mean_absolute_percentage_error\n",
    "from sklearn.metrics import r2_score\n",
    "from sklearn.metrics import mean_squared_error"
   ]
  },
  {
   "cell_type": "markdown",
   "id": "6fcee508",
   "metadata": {},
   "source": [
    "# Loading data"
   ]
  },
  {
   "cell_type": "code",
   "execution_count": 4,
   "id": "0ceb230c",
   "metadata": {},
   "outputs": [],
   "source": [
    "train_new_data = pd.read_csv(\"new_data/train_new_data_f.csv\")\n",
    "train_new_target = pd.read_csv(\"new_data/train_new_target1.csv\")\n",
    "test_new_data = pd.read_csv(\"new_data/test_new_data_f.csv\")\n",
    "test_new_target = pd.read_csv(\"new_data/test_new_target1.csv\")"
   ]
  },
  {
   "cell_type": "code",
   "execution_count": 5,
   "id": "8c706b3a",
   "metadata": {},
   "outputs": [],
   "source": [
    "train_old_data = pd.read_csv(\"new_data/train_old_data_f.csv\")\n",
    "train_old_target = pd.read_csv(\"new_data/train_old_target1.csv\")\n",
    "test_old_data = pd.read_csv(\"new_data/test_old_data_f.csv\")\n",
    "test_old_target = pd.read_csv(\"new_data/test_old_target1.csv\")"
   ]
  },
  {
   "cell_type": "markdown",
   "id": "5ff748cc",
   "metadata": {},
   "source": [
    "# Concat the new and old data to make final dataset"
   ]
  },
  {
   "cell_type": "code",
   "execution_count": 6,
   "id": "dc2c5585",
   "metadata": {},
   "outputs": [],
   "source": [
    "frame_train_data = [train_old_data,train_new_data]\n",
    "frame_train_target = [train_old_target,train_new_target]\n",
    "frame_test_data = [test_old_data,test_new_data]\n",
    "frame_test_target = [test_old_target,test_new_target]"
   ]
  },
  {
   "cell_type": "code",
   "execution_count": 7,
   "id": "6d34f34e",
   "metadata": {},
   "outputs": [],
   "source": [
    "train_dataf = pd.concat(frame_train_data)\n",
    "train_targetf = pd.concat(frame_train_target)\n",
    "test_dataf = pd.concat(frame_test_data)\n",
    "test_targetf = pd.concat(frame_test_target)"
   ]
  },
  {
   "cell_type": "code",
   "execution_count": 8,
   "id": "7ad34e8f",
   "metadata": {},
   "outputs": [
    {
     "data": {
      "text/html": [
       "<div>\n",
       "<style scoped>\n",
       "    .dataframe tbody tr th:only-of-type {\n",
       "        vertical-align: middle;\n",
       "    }\n",
       "\n",
       "    .dataframe tbody tr th {\n",
       "        vertical-align: top;\n",
       "    }\n",
       "\n",
       "    .dataframe thead th {\n",
       "        text-align: right;\n",
       "    }\n",
       "</style>\n",
       "<table border=\"1\" class=\"dataframe\">\n",
       "  <thead>\n",
       "    <tr style=\"text-align: right;\">\n",
       "      <th></th>\n",
       "      <th>State_ AK</th>\n",
       "      <th>State_ AL</th>\n",
       "      <th>State_ AR</th>\n",
       "      <th>State_ AZ</th>\n",
       "      <th>State_ CA</th>\n",
       "      <th>State_ CO</th>\n",
       "      <th>State_ CT</th>\n",
       "      <th>State_ DC</th>\n",
       "      <th>State_ DE</th>\n",
       "      <th>State_ FL</th>\n",
       "      <th>...</th>\n",
       "      <th>City_imporatnce_Low</th>\n",
       "      <th>City_imporatnce_Medium</th>\n",
       "      <th>State_imporatnce_High</th>\n",
       "      <th>State_imporatnce_Low</th>\n",
       "      <th>State_imporatnce_Medium</th>\n",
       "      <th>Year</th>\n",
       "      <th>Mileage</th>\n",
       "      <th>City_mean_price</th>\n",
       "      <th>Brand_popularity</th>\n",
       "      <th>Model_level</th>\n",
       "    </tr>\n",
       "  </thead>\n",
       "  <tbody>\n",
       "    <tr>\n",
       "      <th>0</th>\n",
       "      <td>0.0</td>\n",
       "      <td>0.0</td>\n",
       "      <td>0.0</td>\n",
       "      <td>0.0</td>\n",
       "      <td>0.0</td>\n",
       "      <td>0.0</td>\n",
       "      <td>0.0</td>\n",
       "      <td>0.0</td>\n",
       "      <td>0.0</td>\n",
       "      <td>0.0</td>\n",
       "      <td>...</td>\n",
       "      <td>0.0</td>\n",
       "      <td>0.0</td>\n",
       "      <td>1.0</td>\n",
       "      <td>0.0</td>\n",
       "      <td>0.0</td>\n",
       "      <td>2003</td>\n",
       "      <td>155305</td>\n",
       "      <td>19223.186538</td>\n",
       "      <td>3</td>\n",
       "      <td>1</td>\n",
       "    </tr>\n",
       "    <tr>\n",
       "      <th>1</th>\n",
       "      <td>0.0</td>\n",
       "      <td>0.0</td>\n",
       "      <td>0.0</td>\n",
       "      <td>0.0</td>\n",
       "      <td>1.0</td>\n",
       "      <td>0.0</td>\n",
       "      <td>0.0</td>\n",
       "      <td>0.0</td>\n",
       "      <td>0.0</td>\n",
       "      <td>0.0</td>\n",
       "      <td>...</td>\n",
       "      <td>0.0</td>\n",
       "      <td>0.0</td>\n",
       "      <td>1.0</td>\n",
       "      <td>0.0</td>\n",
       "      <td>0.0</td>\n",
       "      <td>2005</td>\n",
       "      <td>120131</td>\n",
       "      <td>15447.120968</td>\n",
       "      <td>1</td>\n",
       "      <td>1</td>\n",
       "    </tr>\n",
       "    <tr>\n",
       "      <th>2</th>\n",
       "      <td>0.0</td>\n",
       "      <td>0.0</td>\n",
       "      <td>0.0</td>\n",
       "      <td>0.0</td>\n",
       "      <td>0.0</td>\n",
       "      <td>0.0</td>\n",
       "      <td>0.0</td>\n",
       "      <td>0.0</td>\n",
       "      <td>0.0</td>\n",
       "      <td>0.0</td>\n",
       "      <td>...</td>\n",
       "      <td>0.0</td>\n",
       "      <td>0.0</td>\n",
       "      <td>0.0</td>\n",
       "      <td>0.0</td>\n",
       "      <td>1.0</td>\n",
       "      <td>2000</td>\n",
       "      <td>130023</td>\n",
       "      <td>18931.471066</td>\n",
       "      <td>1</td>\n",
       "      <td>1</td>\n",
       "    </tr>\n",
       "    <tr>\n",
       "      <th>3</th>\n",
       "      <td>0.0</td>\n",
       "      <td>0.0</td>\n",
       "      <td>0.0</td>\n",
       "      <td>0.0</td>\n",
       "      <td>0.0</td>\n",
       "      <td>0.0</td>\n",
       "      <td>0.0</td>\n",
       "      <td>0.0</td>\n",
       "      <td>0.0</td>\n",
       "      <td>0.0</td>\n",
       "      <td>...</td>\n",
       "      <td>0.0</td>\n",
       "      <td>0.0</td>\n",
       "      <td>0.0</td>\n",
       "      <td>0.0</td>\n",
       "      <td>1.0</td>\n",
       "      <td>2005</td>\n",
       "      <td>132857</td>\n",
       "      <td>20749.935290</td>\n",
       "      <td>1</td>\n",
       "      <td>1</td>\n",
       "    </tr>\n",
       "    <tr>\n",
       "      <th>4</th>\n",
       "      <td>0.0</td>\n",
       "      <td>0.0</td>\n",
       "      <td>0.0</td>\n",
       "      <td>0.0</td>\n",
       "      <td>0.0</td>\n",
       "      <td>0.0</td>\n",
       "      <td>0.0</td>\n",
       "      <td>0.0</td>\n",
       "      <td>0.0</td>\n",
       "      <td>0.0</td>\n",
       "      <td>...</td>\n",
       "      <td>0.0</td>\n",
       "      <td>0.0</td>\n",
       "      <td>0.0</td>\n",
       "      <td>0.0</td>\n",
       "      <td>1.0</td>\n",
       "      <td>2005</td>\n",
       "      <td>171571</td>\n",
       "      <td>18709.021727</td>\n",
       "      <td>3</td>\n",
       "      <td>1</td>\n",
       "    </tr>\n",
       "  </tbody>\n",
       "</table>\n",
       "<p>5 rows × 65 columns</p>\n",
       "</div>"
      ],
      "text/plain": [
       "   State_ AK  State_ AL  State_ AR  State_ AZ  State_ CA  State_ CO  \\\n",
       "0        0.0        0.0        0.0        0.0        0.0        0.0   \n",
       "1        0.0        0.0        0.0        0.0        1.0        0.0   \n",
       "2        0.0        0.0        0.0        0.0        0.0        0.0   \n",
       "3        0.0        0.0        0.0        0.0        0.0        0.0   \n",
       "4        0.0        0.0        0.0        0.0        0.0        0.0   \n",
       "\n",
       "   State_ CT  State_ DC  State_ DE  State_ FL  ...  City_imporatnce_Low  \\\n",
       "0        0.0        0.0        0.0        0.0  ...                  0.0   \n",
       "1        0.0        0.0        0.0        0.0  ...                  0.0   \n",
       "2        0.0        0.0        0.0        0.0  ...                  0.0   \n",
       "3        0.0        0.0        0.0        0.0  ...                  0.0   \n",
       "4        0.0        0.0        0.0        0.0  ...                  0.0   \n",
       "\n",
       "   City_imporatnce_Medium  State_imporatnce_High  State_imporatnce_Low  \\\n",
       "0                     0.0                    1.0                   0.0   \n",
       "1                     0.0                    1.0                   0.0   \n",
       "2                     0.0                    0.0                   0.0   \n",
       "3                     0.0                    0.0                   0.0   \n",
       "4                     0.0                    0.0                   0.0   \n",
       "\n",
       "   State_imporatnce_Medium  Year  Mileage  City_mean_price  Brand_popularity  \\\n",
       "0                      0.0  2003   155305     19223.186538                 3   \n",
       "1                      0.0  2005   120131     15447.120968                 1   \n",
       "2                      1.0  2000   130023     18931.471066                 1   \n",
       "3                      1.0  2005   132857     20749.935290                 1   \n",
       "4                      1.0  2005   171571     18709.021727                 3   \n",
       "\n",
       "   Model_level  \n",
       "0            1  \n",
       "1            1  \n",
       "2            1  \n",
       "3            1  \n",
       "4            1  \n",
       "\n",
       "[5 rows x 65 columns]"
      ]
     },
     "execution_count": 8,
     "metadata": {},
     "output_type": "execute_result"
    }
   ],
   "source": [
    "train_dataf.head()"
   ]
  },
  {
   "cell_type": "markdown",
   "id": "4e164266",
   "metadata": {},
   "source": [
    "# Normalize the data"
   ]
  },
  {
   "cell_type": "code",
   "execution_count": 9,
   "id": "5ab1bd5c",
   "metadata": {},
   "outputs": [],
   "source": [
    "from sklearn.preprocessing import MinMaxScaler\n",
    "\n",
    "scaler = MinMaxScaler()\n",
    "scaler.fit(train_dataf)\n",
    "train_dataf_std = scaler.transform(train_dataf)\n",
    "\n",
    "\n",
    "test_dataf_std = scaler.transform(test_dataf)"
   ]
  },
  {
   "cell_type": "markdown",
   "id": "9120af03",
   "metadata": {},
   "source": [
    "# Model Building"
   ]
  },
  {
   "cell_type": "code",
   "execution_count": 10,
   "id": "b040df0f",
   "metadata": {},
   "outputs": [],
   "source": [
    "import tensorflow as tf\n",
    "from tensorflow import keras\n",
    "from tensorflow.keras import layers"
   ]
  },
  {
   "cell_type": "code",
   "execution_count": 11,
   "id": "09b58cd7",
   "metadata": {},
   "outputs": [],
   "source": [
    "from tensorflow.keras.losses import MeanSquaredLogarithmicError\n",
    "msle = MeanSquaredLogarithmicError()"
   ]
  },
  {
   "cell_type": "code",
   "execution_count": 18,
   "id": "7cc1d6eb",
   "metadata": {},
   "outputs": [],
   "source": [
    "def build_model():\n",
    "    model = tf.keras.Sequential([\n",
    "      tf.keras.layers.Dense(256, activation='relu', input_shape=(65,)),\n",
    "      tf.keras.layers.Dense(256, activation='relu'),\n",
    "      tf.keras.layers.Dense(128, activation='relu'),\n",
    "      tf.keras.layers.Dense(128, activation='relu'),\n",
    "      tf.keras.layers.Dense(64, activation='relu'),\n",
    "      tf.keras.layers.Dense(64, activation='relu'),\n",
    "      tf.keras.layers.Dense(1, activation='linear')\n",
    "    ])\n",
    "\n",
    "    optimizer = tf.keras.optimizers.Adam(0.01)\n",
    "\n",
    "    model.compile(loss=msle,\n",
    "                optimizer=optimizer,\n",
    "                metrics=[msle])\n",
    "    return model"
   ]
  },
  {
   "cell_type": "code",
   "execution_count": 19,
   "id": "ad9ed9b6",
   "metadata": {},
   "outputs": [
    {
     "name": "stdout",
     "output_type": "stream",
     "text": [
      "Model: \"sequential_1\"\n",
      "_________________________________________________________________\n",
      " Layer (type)                Output Shape              Param #   \n",
      "=================================================================\n",
      " dense_5 (Dense)             (None, 256)               16896     \n",
      "                                                                 \n",
      " dense_6 (Dense)             (None, 256)               65792     \n",
      "                                                                 \n",
      " dense_7 (Dense)             (None, 128)               32896     \n",
      "                                                                 \n",
      " dense_8 (Dense)             (None, 128)               16512     \n",
      "                                                                 \n",
      " dense_9 (Dense)             (None, 64)                8256      \n",
      "                                                                 \n",
      " dense_10 (Dense)            (None, 64)                4160      \n",
      "                                                                 \n",
      " dense_11 (Dense)            (None, 1)                 65        \n",
      "                                                                 \n",
      "=================================================================\n",
      "Total params: 144,577\n",
      "Trainable params: 144,577\n",
      "Non-trainable params: 0\n",
      "_________________________________________________________________\n"
     ]
    }
   ],
   "source": [
    "model = build_model()\n",
    "model.summary()"
   ]
  },
  {
   "cell_type": "code",
   "execution_count": 20,
   "id": "3cf01698",
   "metadata": {},
   "outputs": [
    {
     "name": "stdout",
     "output_type": "stream",
     "text": [
      "Epoch 1/10\n",
      "8779/8779 - 69s - loss: 0.2025 - mean_squared_logarithmic_error: 0.2025 - val_loss: 0.1466 - val_mean_squared_logarithmic_error: 0.1466 - 69s/epoch - 8ms/step\n",
      "Epoch 2/10\n",
      "8779/8779 - 68s - loss: 0.1518 - mean_squared_logarithmic_error: 0.1518 - val_loss: 0.1510 - val_mean_squared_logarithmic_error: 0.1510 - 68s/epoch - 8ms/step\n",
      "Epoch 3/10\n",
      "8779/8779 - 41s - loss: 0.1503 - mean_squared_logarithmic_error: 0.1503 - val_loss: 0.1453 - val_mean_squared_logarithmic_error: 0.1453 - 41s/epoch - 5ms/step\n",
      "Epoch 4/10\n",
      "8779/8779 - 38s - loss: 0.1494 - mean_squared_logarithmic_error: 0.1494 - val_loss: 0.1446 - val_mean_squared_logarithmic_error: 0.1445 - 38s/epoch - 4ms/step\n",
      "Epoch 5/10\n",
      "8779/8779 - 38s - loss: 0.1487 - mean_squared_logarithmic_error: 0.1487 - val_loss: 0.1439 - val_mean_squared_logarithmic_error: 0.1439 - 38s/epoch - 4ms/step\n",
      "Epoch 6/10\n",
      "8779/8779 - 37s - loss: 0.1480 - mean_squared_logarithmic_error: 0.1480 - val_loss: 0.1435 - val_mean_squared_logarithmic_error: 0.1435 - 37s/epoch - 4ms/step\n",
      "Epoch 7/10\n",
      "8779/8779 - 37s - loss: 0.1475 - mean_squared_logarithmic_error: 0.1475 - val_loss: 0.1449 - val_mean_squared_logarithmic_error: 0.1449 - 37s/epoch - 4ms/step\n",
      "Epoch 8/10\n",
      "8779/8779 - 38s - loss: 0.1471 - mean_squared_logarithmic_error: 0.1471 - val_loss: 0.1459 - val_mean_squared_logarithmic_error: 0.1459 - 38s/epoch - 4ms/step\n",
      "Epoch 9/10\n",
      "8779/8779 - 38s - loss: 0.1468 - mean_squared_logarithmic_error: 0.1468 - val_loss: 0.1422 - val_mean_squared_logarithmic_error: 0.1422 - 38s/epoch - 4ms/step\n",
      "Epoch 10/10\n",
      "8779/8779 - 38s - loss: 0.1466 - mean_squared_logarithmic_error: 0.1466 - val_loss: 0.1422 - val_mean_squared_logarithmic_error: 0.1422 - 38s/epoch - 4ms/step\n"
     ]
    }
   ],
   "source": [
    "historyf = model.fit(\n",
    "  train_dataf_std, train_targetf,\n",
    "  epochs=10, validation_split = 0.2, verbose=2,batch_size=100\n",
    "  )"
   ]
  },
  {
   "cell_type": "code",
   "execution_count": 21,
   "id": "f712b536",
   "metadata": {},
   "outputs": [
    {
     "data": {
      "image/png": "[encoded data removed]",
      "text/plain": [
       "<Figure size 432x288 with 1 Axes>"
      ]
     },
     "metadata": {
      "needs_background": "light"
     },
     "output_type": "display_data"
    }
   ],
   "source": [
    "def plot_history(history, key):\n",
    "    plt.plot(history.history[key])\n",
    "    plt.plot(history.history['val_'+key])\n",
    "    plt.xlabel(\"Epochs\")\n",
    "    plt.ylabel(key)\n",
    "    plt.legend([key, 'val_'+key])\n",
    "    plt.show()\n",
    "# Plot the history\n",
    "plot_history(historyf,'mean_squared_logarithmic_error')"
   ]
  },
  {
   "cell_type": "markdown",
   "id": "5405a3b8",
   "metadata": {},
   "source": [
    "# Accuracy of model"
   ]
  },
  {
   "cell_type": "code",
   "execution_count": 22,
   "id": "9ac58904",
   "metadata": {},
   "outputs": [
    {
     "name": "stdout",
     "output_type": "stream",
     "text": [
      "3811/3811 [==============================] - 6s 1ms/step\n"
     ]
    }
   ],
   "source": [
    "test_pred = model.predict(test_dataf_std)"
   ]
  },
  {
   "cell_type": "code",
   "execution_count": 23,
   "id": "a6dd8f4e",
   "metadata": {},
   "outputs": [
    {
     "data": {
      "text/plain": [
       "0.39264977395285294"
      ]
     },
     "execution_count": 23,
     "metadata": {},
     "output_type": "execute_result"
    }
   ],
   "source": [
    "r2_dataf_dnn_score_test = r2_score(test_targetf, test_pred)\n",
    "r2_dataf_dnn_score_test"
   ]
  },
  {
   "cell_type": "markdown",
   "id": "2c0d9ce2",
   "metadata": {},
   "source": [
    "# Saving the model"
   ]
  },
  {
   "cell_type": "code",
   "execution_count": 18,
   "id": "699d0add",
   "metadata": {},
   "outputs": [
    {
     "name": "stdout",
     "output_type": "stream",
     "text": [
      "Requirement already satisfied: pickle-mixin in c:\\anaconda3\\envs\\dlproj\\lib\\site-packages (1.0.2)\n"
     ]
    }
   ],
   "source": [
    "#!pip install pickle-mixin"
   ]
  },
  {
   "cell_type": "code",
   "execution_count": 20,
   "id": "804f318a",
   "metadata": {},
   "outputs": [
    {
     "name": "stdout",
     "output_type": "stream",
     "text": [
      "INFO:tensorflow:Assets written to: ram://f8da407b-128e-4f73-b331-960841e156b5/assets\n"
     ]
    }
   ],
   "source": [
    "#import pickle\n",
    "#pickle.dump(model, open('usedcarPrediction_concatinet_final_data.pkl', 'wb'))"
   ]
  },
  {
   "cell_type": "code",
   "execution_count": 24,
   "id": "8067fcb1",
   "metadata": {},
   "outputs": [],
   "source": [
    "model.save('DNN_car_full_data.h5')"
   ]
  },
  {
   "cell_type": "code",
   "execution_count": null,
   "id": "09f0c8fc",
   "metadata": {},
   "outputs": [],
   "source": []
  }
 ],
 "metadata": {
  "kernelspec": {
   "display_name": "Python 3 (ipykernel)",
   "language": "python",
   "name": "python3"
  },
  "language_info": {
   "codemirror_mode": {
    "name": "ipython",
    "version": 3
   },
   "file_extension": ".py",
   "mimetype": "text/x-python",
   "name": "python",
   "nbconvert_exporter": "python",
   "pygments_lexer": "ipython3",
   "version": "3.8.12"
  }
 },
 "nbformat": 4,
 "nbformat_minor": 5
}
