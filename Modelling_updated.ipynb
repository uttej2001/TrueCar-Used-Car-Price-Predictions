{
 "cells": [
  {
   "cell_type": "markdown",
   "id": "77023077",
   "metadata": {},
   "source": [
    "# Table Of Content:\n",
    "\n",
    "- <a href=\"#feat\">1. Feature Engineering:</a>\n",
    "    - <a href=\"#feat1\">1.1 Companys' Popularity</a>\n",
    "    - <a href=\"#feat2\">1.2 Car Model Level</a>\n",
    "    - <a href=\"#feat3\">1.3 One hot Encoding</a>\n",
    "- <a href=\"#featsel\">2. Feature Seletion</a>\n",
    "- <a href=\"#model\">3. Model Selection:</a>\n",
    "    - <a href=\"#model1\">3.1 Linear Regression</a>\n",
    "    - <a href=\"#model2\">3.2 Decision Tree</a>\n",
    "    - <a href=\"#model3\">3.3 Random Forest</a>\n",
    "- <a href=\"#expl\">4. Model Intrepretability:</a>\n",
    "    - <a href=\"#expl1\">4.1 Permoutation Importance</a>\n",
    "    - <a href=\"#expl3\">4.2 Partial Dependancy Plots</a>\n",
    "- <a href=\"#eval\">5. Model Evaluation:</a>\n",
    "    - <a href=\"#eval1\">5.1 Linear Regression</a>\n",
    "    - <a href=\"#eval2\">5.2 Decision Tree</a>\n",
    "    - <a href=\"#eval3\">5.3 Random Forest</a>\n",
    "    - <a href=\"#eval4\">5.4 Final Results and conclusion</a>"
   ]
  },
  {
   "cell_type": "code",
   "execution_count": 2,
   "id": "3c9b8a4d",
   "metadata": {},
   "outputs": [],
   "source": [
    "import pandas as pd\n",
    "import numpy as np\n",
    "import matplotlib.pyplot as plt\n",
    "import seaborn as sns\n",
    "from sklearn.preprocessing import OneHotEncoder\n",
    "from sklearn.preprocessing import PolynomialFeatures\n",
    "from sklearn.model_selection import train_test_split\n",
    "from sklearn.linear_model import Ridge\n",
    "from sklearn.tree import DecisionTreeRegressor\n",
    "from sklearn.ensemble import RandomForestRegressor\n",
    "from sklearn.model_selection import GridSearchCV\n",
    "from sklearn.metrics import mean_absolute_percentage_error\n",
    "from sklearn.metrics import r2_score\n",
    "from sklearn.metrics import mean_squared_error\n",
    "import eli5\n",
    "from eli5.sklearn import PermutationImportance\n",
    "from sklearn.inspection import PartialDependenceDisplay\n",
    "%matplotlib inline\n",
    "import warnings\n",
    "import shap\n",
    "warnings.filterwarnings('ignore')"
   ]
  },
  {
   "cell_type": "code",
   "execution_count": 3,
   "id": "dde9e266",
   "metadata": {},
   "outputs": [],
   "source": [
    "# Loading Data\n",
    "data = pd.read_csv(\"semi_master_date.csv\")"
   ]
  },
  {
   "cell_type": "markdown",
   "id": "7dd824ec",
   "metadata": {},
   "source": [
    "<span id=\"feat\"></span>\n",
    "## 1. More Feature Engineering:\n",
    "\n",
    "Here We assume that replacing the high cardinality categorical variables with lower one can enhance the model performance, and we will check this in the model evaluation step."
   ]
  },
  {
   "cell_type": "markdown",
   "id": "00813666",
   "metadata": {},
   "source": [
    "<span id=\"feat1\"></span>\n",
    "### 1.1 Company's Popularity:\n",
    "\n",
    "Adding a new feature to the data that represents the popularity of the company that made the car in that time, and because we have two data sets, then this will be changed from one dataset to other, and the popularity can be found that by knowing the volume of sold car from that brand inside USA at two separate times, one 2006(Old) dataset and the other for 2018(New).\n",
    "\n",
    "And this feature will have three levels that represents the popularity as follow:\n",
    "- 3: The most 10 popular companys, those who sold the most in (2006 and 2018 separately)\n",
    "- 2: The medium 20 Companys in popularity\n",
    "- 1: other brands.\n",
    "\n",
    "###### Resources to help:\n",
    "- For 2006 Sellers: \n",
    "    - https://www.goodcarbadcar.net/2006-usa-auto-sales-rankings-by-mode/\n",
    "    - https://knoema.com/infographics/floslle/top-vehicle-manufacturers-in-the-us-market-1961-2016\n",
    "- For 2018 Sellers: \n",
    "    - https://www.goodcarbadcar.net/u-s-auto-sales-brand-rankings-september-2018-ytd/\n"
   ]
  },
  {
   "cell_type": "code",
   "execution_count": 4,
   "id": "0a4fbcb0",
   "metadata": {},
   "outputs": [],
   "source": [
    "# new_data_train"
   ]
  },
  {
   "cell_type": "code",
   "execution_count": 5,
   "id": "f5e5159d",
   "metadata": {},
   "outputs": [
    {
     "data": {
      "text/plain": [
       "count        55.000000\n",
       "mean      21342.690909\n",
       "std       34911.596398\n",
       "min           1.000000\n",
       "25%         220.000000\n",
       "50%        4969.000000\n",
       "75%       26264.000000\n",
       "max      154109.000000\n",
       "Name: Make, dtype: float64"
      ]
     },
     "execution_count": 5,
     "metadata": {},
     "output_type": "execute_result"
    }
   ],
   "source": [
    "data.Make.value_counts().describe()"
   ]
  },
  {
   "cell_type": "code",
   "execution_count": 6,
   "id": "f58226e6",
   "metadata": {},
   "outputs": [],
   "source": [
    "popular_brands = data.Make.value_counts()[data.Make.value_counts() >= 26264]\n",
    "medium_brands = data.Make.value_counts()[(data.Make.value_counts() < 26264) & (data.Make.value_counts() >= 220)]"
   ]
  },
  {
   "cell_type": "code",
   "execution_count": 9,
   "id": "269b7a53",
   "metadata": {},
   "outputs": [],
   "source": [
    "popular_brands.to_csv(\"popular_brands.csv\")\n",
    "medium_brands.to_csv(\"medium_brands.csv\")"
   ]
  },
  {
   "cell_type": "code",
   "execution_count": 11,
   "id": "6a56c091",
   "metadata": {},
   "outputs": [],
   "source": [
    "def add_seller_popularity(df, top10, medium):\n",
    "    def popullariy(brand, top = top10, med = medium):\n",
    "        if(brand in top):\n",
    "            return 3\n",
    "        elif(brand in med):\n",
    "            return 2\n",
    "        else:\n",
    "            return 1\n",
    "    df[\"Brand_popularity\"] = df[\"Make\"].apply(popullariy)\n",
    "    return df"
   ]
  },
  {
   "cell_type": "code",
   "execution_count": 12,
   "id": "df4957a0",
   "metadata": {},
   "outputs": [],
   "source": [
    "new_data = add_seller_popularity(data, popular_brands, medium_brands)"
   ]
  },
  {
   "cell_type": "code",
   "execution_count": 13,
   "id": "b4031d8e",
   "metadata": {},
   "outputs": [
    {
     "data": {
      "text/html": [
       "<div>\n",
       "<style scoped>\n",
       "    .dataframe tbody tr th:only-of-type {\n",
       "        vertical-align: middle;\n",
       "    }\n",
       "\n",
       "    .dataframe tbody tr th {\n",
       "        vertical-align: top;\n",
       "    }\n",
       "\n",
       "    .dataframe thead th {\n",
       "        text-align: right;\n",
       "    }\n",
       "</style>\n",
       "<table border=\"1\" class=\"dataframe\">\n",
       "  <thead>\n",
       "    <tr style=\"text-align: right;\">\n",
       "      <th></th>\n",
       "      <th>Price</th>\n",
       "      <th>Year</th>\n",
       "      <th>Mileage</th>\n",
       "      <th>City</th>\n",
       "      <th>State</th>\n",
       "      <th>Make</th>\n",
       "      <th>Model</th>\n",
       "      <th>Usage_level</th>\n",
       "      <th>City_imporatnce</th>\n",
       "      <th>City_mean_price</th>\n",
       "      <th>State_imporatnce</th>\n",
       "      <th>Brand_popularity</th>\n",
       "    </tr>\n",
       "  </thead>\n",
       "  <tbody>\n",
       "    <tr>\n",
       "      <th>0</th>\n",
       "      <td>16472</td>\n",
       "      <td>2015</td>\n",
       "      <td>18681</td>\n",
       "      <td>JEFFERSON CITY</td>\n",
       "      <td>MO</td>\n",
       "      <td>BUICK</td>\n",
       "      <td>ENCORECONVENIENCE</td>\n",
       "      <td>Low</td>\n",
       "      <td>High</td>\n",
       "      <td>18785.571605</td>\n",
       "      <td>Medium</td>\n",
       "      <td>2</td>\n",
       "    </tr>\n",
       "    <tr>\n",
       "      <th>1</th>\n",
       "      <td>15749</td>\n",
       "      <td>2015</td>\n",
       "      <td>27592</td>\n",
       "      <td>HIGHLAND</td>\n",
       "      <td>IN</td>\n",
       "      <td>BUICK</td>\n",
       "      <td>ENCOREFWD</td>\n",
       "      <td>Medium</td>\n",
       "      <td>High</td>\n",
       "      <td>18233.158996</td>\n",
       "      <td>Medium</td>\n",
       "      <td>2</td>\n",
       "    </tr>\n",
       "    <tr>\n",
       "      <th>2</th>\n",
       "      <td>16998</td>\n",
       "      <td>2015</td>\n",
       "      <td>13650</td>\n",
       "      <td>BOONE</td>\n",
       "      <td>NC</td>\n",
       "      <td>BUICK</td>\n",
       "      <td>ENCORELEATHER</td>\n",
       "      <td>Low</td>\n",
       "      <td>High</td>\n",
       "      <td>22329.498000</td>\n",
       "      <td>High</td>\n",
       "      <td>2</td>\n",
       "    </tr>\n",
       "    <tr>\n",
       "      <th>3</th>\n",
       "      <td>15777</td>\n",
       "      <td>2015</td>\n",
       "      <td>25195</td>\n",
       "      <td>NEW ORLEANS</td>\n",
       "      <td>LA</td>\n",
       "      <td>BUICK</td>\n",
       "      <td>ENCOREFWD</td>\n",
       "      <td>Medium</td>\n",
       "      <td>High</td>\n",
       "      <td>19024.911538</td>\n",
       "      <td>Medium</td>\n",
       "      <td>2</td>\n",
       "    </tr>\n",
       "    <tr>\n",
       "      <th>4</th>\n",
       "      <td>16784</td>\n",
       "      <td>2015</td>\n",
       "      <td>22800</td>\n",
       "      <td>LAS VEGAS</td>\n",
       "      <td>NV</td>\n",
       "      <td>BUICK</td>\n",
       "      <td>ENCORECONVENIENCE</td>\n",
       "      <td>Low</td>\n",
       "      <td>High</td>\n",
       "      <td>18866.277499</td>\n",
       "      <td>Medium</td>\n",
       "      <td>2</td>\n",
       "    </tr>\n",
       "  </tbody>\n",
       "</table>\n",
       "</div>"
      ],
      "text/plain": [
       "   Price  Year  Mileage            City State   Make              Model  \\\n",
       "0  16472  2015    18681  JEFFERSON CITY    MO  BUICK  ENCORECONVENIENCE   \n",
       "1  15749  2015    27592        HIGHLAND    IN  BUICK          ENCOREFWD   \n",
       "2  16998  2015    13650           BOONE    NC  BUICK      ENCORELEATHER   \n",
       "3  15777  2015    25195     NEW ORLEANS    LA  BUICK          ENCOREFWD   \n",
       "4  16784  2015    22800       LAS VEGAS    NV  BUICK  ENCORECONVENIENCE   \n",
       "\n",
       "  Usage_level City_imporatnce  City_mean_price State_imporatnce  \\\n",
       "0         Low            High     18785.571605           Medium   \n",
       "1      Medium            High     18233.158996           Medium   \n",
       "2         Low            High     22329.498000             High   \n",
       "3      Medium            High     19024.911538           Medium   \n",
       "4         Low            High     18866.277499           Medium   \n",
       "\n",
       "   Brand_popularity  \n",
       "0                 2  \n",
       "1                 2  \n",
       "2                 2  \n",
       "3                 2  \n",
       "4                 2  "
      ]
     },
     "execution_count": 13,
     "metadata": {},
     "output_type": "execute_result"
    }
   ],
   "source": [
    "new_data.head()"
   ]
  },
  {
   "cell_type": "code",
   "execution_count": 14,
   "id": "773141fe",
   "metadata": {},
   "outputs": [
    {
     "data": {
      "text/plain": [
       "(1173848, 12)"
      ]
     },
     "execution_count": 14,
     "metadata": {},
     "output_type": "execute_result"
    }
   ],
   "source": [
    "new_data.shape"
   ]
  },
  {
   "cell_type": "markdown",
   "id": "7240dee0",
   "metadata": {},
   "source": [
    "<span id=\"feat2\"></span>\n",
    "### 1.2 Car Model Level:\n",
    "\n",
    "Adding a new feature that represents luxury (mean price) of a certain model and divide these models into 3 main categories:\n",
    "- 3: The most 10 Luxury Models, those who has the most 10 mea prices.\n",
    "- 2: The medium 20 Luxury Car Models\n",
    "- 1: Other Models."
   ]
  },
  {
   "cell_type": "code",
   "execution_count": 17,
   "id": "5115ddfb",
   "metadata": {},
   "outputs": [],
   "source": [
    "new_Models = new_data.groupby(\"Model\")[\"Price\"].mean().sort_values(ascending = False)"
   ]
  },
  {
   "cell_type": "code",
   "execution_count": 19,
   "id": "e712d782",
   "metadata": {},
   "outputs": [
    {
     "data": {
      "text/plain": [
       "count     2914.000000\n",
       "mean     20460.776204\n",
       "std      14034.303934\n",
       "min       1977.000000\n",
       "25%       9702.927984\n",
       "50%      16911.044828\n",
       "75%      27555.195701\n",
       "max      66999.000000\n",
       "Name: Price, dtype: float64"
      ]
     },
     "execution_count": 19,
     "metadata": {},
     "output_type": "execute_result"
    }
   ],
   "source": [
    "new_Models.describe()"
   ]
  },
  {
   "cell_type": "code",
   "execution_count": 21,
   "id": "c17ad9bf",
   "metadata": {},
   "outputs": [],
   "source": [
    "top_models = new_Models[new_Models >= 27555 ]\n",
    "medium_models = new_Models[(new_Models < 27555) & (new_Models >= 9702 )]"
   ]
  },
  {
   "cell_type": "code",
   "execution_count": 31,
   "id": "7c159f20",
   "metadata": {},
   "outputs": [],
   "source": [
    "top_models.to_csv(\"top_models.csv\")\n",
    "medium_models.to_csv(\"medium_models.csv\")"
   ]
  },
  {
   "cell_type": "code",
   "execution_count": 22,
   "id": "7d41fe5b",
   "metadata": {},
   "outputs": [
    {
     "data": {
      "text/plain": [
       "Model\n",
       "57S4DR                66999.000000\n",
       "3602DR                66995.000000\n",
       "GLEAMG                66982.000000\n",
       "XFR-S                 66898.000000\n",
       "A7COMPETITION         66148.500000\n",
       "                          ...     \n",
       "BRZSERIES.YELLOW      27580.000000\n",
       "XTSPLATINUM           27576.423423\n",
       "CAYMAN2DR             27568.300885\n",
       "PATHFINDERPLATINUM    27567.260108\n",
       "SIENNASE              27555.314394\n",
       "Name: Price, Length: 729, dtype: float64"
      ]
     },
     "execution_count": 22,
     "metadata": {},
     "output_type": "execute_result"
    }
   ],
   "source": [
    "top_models"
   ]
  },
  {
   "cell_type": "code",
   "execution_count": 23,
   "id": "5d8fe1e4",
   "metadata": {},
   "outputs": [],
   "source": [
    "def add_model_level(df, top, medium):\n",
    "    def model_level(model, t = top, med = medium):\n",
    "        if(model in t):\n",
    "            return 3\n",
    "        elif(model in med):\n",
    "            return 2\n",
    "        else:\n",
    "            return 1\n",
    "    df[\"Model_level\"] = df[\"Model\"].apply(model_level)\n",
    "    return df"
   ]
  },
  {
   "cell_type": "code",
   "execution_count": 24,
   "id": "1c423abb",
   "metadata": {},
   "outputs": [],
   "source": [
    "new_data = add_model_level(new_data, top_models.index.to_list(), medium_models.index.to_list())"
   ]
  },
  {
   "cell_type": "code",
   "execution_count": 25,
   "id": "7d9efbdc",
   "metadata": {},
   "outputs": [
    {
     "data": {
      "text/html": [
       "<div>\n",
       "<style scoped>\n",
       "    .dataframe tbody tr th:only-of-type {\n",
       "        vertical-align: middle;\n",
       "    }\n",
       "\n",
       "    .dataframe tbody tr th {\n",
       "        vertical-align: top;\n",
       "    }\n",
       "\n",
       "    .dataframe thead th {\n",
       "        text-align: right;\n",
       "    }\n",
       "</style>\n",
       "<table border=\"1\" class=\"dataframe\">\n",
       "  <thead>\n",
       "    <tr style=\"text-align: right;\">\n",
       "      <th></th>\n",
       "      <th>Price</th>\n",
       "      <th>Year</th>\n",
       "      <th>Mileage</th>\n",
       "      <th>City</th>\n",
       "      <th>State</th>\n",
       "      <th>Make</th>\n",
       "      <th>Model</th>\n",
       "      <th>Usage_level</th>\n",
       "      <th>City_imporatnce</th>\n",
       "      <th>City_mean_price</th>\n",
       "      <th>State_imporatnce</th>\n",
       "      <th>Brand_popularity</th>\n",
       "      <th>Model_level</th>\n",
       "    </tr>\n",
       "  </thead>\n",
       "  <tbody>\n",
       "    <tr>\n",
       "      <th>0</th>\n",
       "      <td>16472</td>\n",
       "      <td>2015</td>\n",
       "      <td>18681</td>\n",
       "      <td>JEFFERSON CITY</td>\n",
       "      <td>MO</td>\n",
       "      <td>BUICK</td>\n",
       "      <td>ENCORECONVENIENCE</td>\n",
       "      <td>Low</td>\n",
       "      <td>High</td>\n",
       "      <td>18785.571605</td>\n",
       "      <td>Medium</td>\n",
       "      <td>2</td>\n",
       "      <td>2</td>\n",
       "    </tr>\n",
       "    <tr>\n",
       "      <th>1</th>\n",
       "      <td>15749</td>\n",
       "      <td>2015</td>\n",
       "      <td>27592</td>\n",
       "      <td>HIGHLAND</td>\n",
       "      <td>IN</td>\n",
       "      <td>BUICK</td>\n",
       "      <td>ENCOREFWD</td>\n",
       "      <td>Medium</td>\n",
       "      <td>High</td>\n",
       "      <td>18233.158996</td>\n",
       "      <td>Medium</td>\n",
       "      <td>2</td>\n",
       "      <td>2</td>\n",
       "    </tr>\n",
       "    <tr>\n",
       "      <th>2</th>\n",
       "      <td>16998</td>\n",
       "      <td>2015</td>\n",
       "      <td>13650</td>\n",
       "      <td>BOONE</td>\n",
       "      <td>NC</td>\n",
       "      <td>BUICK</td>\n",
       "      <td>ENCORELEATHER</td>\n",
       "      <td>Low</td>\n",
       "      <td>High</td>\n",
       "      <td>22329.498000</td>\n",
       "      <td>High</td>\n",
       "      <td>2</td>\n",
       "      <td>2</td>\n",
       "    </tr>\n",
       "    <tr>\n",
       "      <th>3</th>\n",
       "      <td>15777</td>\n",
       "      <td>2015</td>\n",
       "      <td>25195</td>\n",
       "      <td>NEW ORLEANS</td>\n",
       "      <td>LA</td>\n",
       "      <td>BUICK</td>\n",
       "      <td>ENCOREFWD</td>\n",
       "      <td>Medium</td>\n",
       "      <td>High</td>\n",
       "      <td>19024.911538</td>\n",
       "      <td>Medium</td>\n",
       "      <td>2</td>\n",
       "      <td>2</td>\n",
       "    </tr>\n",
       "    <tr>\n",
       "      <th>4</th>\n",
       "      <td>16784</td>\n",
       "      <td>2015</td>\n",
       "      <td>22800</td>\n",
       "      <td>LAS VEGAS</td>\n",
       "      <td>NV</td>\n",
       "      <td>BUICK</td>\n",
       "      <td>ENCORECONVENIENCE</td>\n",
       "      <td>Low</td>\n",
       "      <td>High</td>\n",
       "      <td>18866.277499</td>\n",
       "      <td>Medium</td>\n",
       "      <td>2</td>\n",
       "      <td>2</td>\n",
       "    </tr>\n",
       "  </tbody>\n",
       "</table>\n",
       "</div>"
      ],
      "text/plain": [
       "   Price  Year  Mileage            City State   Make              Model  \\\n",
       "0  16472  2015    18681  JEFFERSON CITY    MO  BUICK  ENCORECONVENIENCE   \n",
       "1  15749  2015    27592        HIGHLAND    IN  BUICK          ENCOREFWD   \n",
       "2  16998  2015    13650           BOONE    NC  BUICK      ENCORELEATHER   \n",
       "3  15777  2015    25195     NEW ORLEANS    LA  BUICK          ENCOREFWD   \n",
       "4  16784  2015    22800       LAS VEGAS    NV  BUICK  ENCORECONVENIENCE   \n",
       "\n",
       "  Usage_level City_imporatnce  City_mean_price State_imporatnce  \\\n",
       "0         Low            High     18785.571605           Medium   \n",
       "1      Medium            High     18233.158996           Medium   \n",
       "2         Low            High     22329.498000             High   \n",
       "3      Medium            High     19024.911538           Medium   \n",
       "4         Low            High     18866.277499           Medium   \n",
       "\n",
       "   Brand_popularity  Model_level  \n",
       "0                 2            2  \n",
       "1                 2            2  \n",
       "2                 2            2  \n",
       "3                 2            2  \n",
       "4                 2            2  "
      ]
     },
     "execution_count": 25,
     "metadata": {},
     "output_type": "execute_result"
    }
   ],
   "source": [
    "new_data.head()"
   ]
  },
  {
   "cell_type": "markdown",
   "id": "5b588a01",
   "metadata": {},
   "source": [
    "<span id=\"feat3\"></span>\n",
    "### 1.3 One Hot Encoding for categorical values:"
   ]
  },
  {
   "cell_type": "code",
   "execution_count": 27,
   "id": "4c850101",
   "metadata": {},
   "outputs": [],
   "source": [
    "# Drop High Cardinality columns \n",
    "new_data = new_data.drop(columns = [\"Make\", \"Model\", \"City\"])"
   ]
  },
  {
   "cell_type": "code",
   "execution_count": 28,
   "id": "2024c4eb",
   "metadata": {},
   "outputs": [
    {
     "data": {
      "text/html": [
       "<div>\n",
       "<style scoped>\n",
       "    .dataframe tbody tr th:only-of-type {\n",
       "        vertical-align: middle;\n",
       "    }\n",
       "\n",
       "    .dataframe tbody tr th {\n",
       "        vertical-align: top;\n",
       "    }\n",
       "\n",
       "    .dataframe thead th {\n",
       "        text-align: right;\n",
       "    }\n",
       "</style>\n",
       "<table border=\"1\" class=\"dataframe\">\n",
       "  <thead>\n",
       "    <tr style=\"text-align: right;\">\n",
       "      <th></th>\n",
       "      <th>Price</th>\n",
       "      <th>Year</th>\n",
       "      <th>Mileage</th>\n",
       "      <th>State</th>\n",
       "      <th>Usage_level</th>\n",
       "      <th>City_imporatnce</th>\n",
       "      <th>City_mean_price</th>\n",
       "      <th>State_imporatnce</th>\n",
       "      <th>Brand_popularity</th>\n",
       "      <th>Model_level</th>\n",
       "    </tr>\n",
       "  </thead>\n",
       "  <tbody>\n",
       "    <tr>\n",
       "      <th>0</th>\n",
       "      <td>16472</td>\n",
       "      <td>2015</td>\n",
       "      <td>18681</td>\n",
       "      <td>MO</td>\n",
       "      <td>Low</td>\n",
       "      <td>High</td>\n",
       "      <td>18785.571605</td>\n",
       "      <td>Medium</td>\n",
       "      <td>2</td>\n",
       "      <td>2</td>\n",
       "    </tr>\n",
       "    <tr>\n",
       "      <th>1</th>\n",
       "      <td>15749</td>\n",
       "      <td>2015</td>\n",
       "      <td>27592</td>\n",
       "      <td>IN</td>\n",
       "      <td>Medium</td>\n",
       "      <td>High</td>\n",
       "      <td>18233.158996</td>\n",
       "      <td>Medium</td>\n",
       "      <td>2</td>\n",
       "      <td>2</td>\n",
       "    </tr>\n",
       "    <tr>\n",
       "      <th>2</th>\n",
       "      <td>16998</td>\n",
       "      <td>2015</td>\n",
       "      <td>13650</td>\n",
       "      <td>NC</td>\n",
       "      <td>Low</td>\n",
       "      <td>High</td>\n",
       "      <td>22329.498000</td>\n",
       "      <td>High</td>\n",
       "      <td>2</td>\n",
       "      <td>2</td>\n",
       "    </tr>\n",
       "    <tr>\n",
       "      <th>3</th>\n",
       "      <td>15777</td>\n",
       "      <td>2015</td>\n",
       "      <td>25195</td>\n",
       "      <td>LA</td>\n",
       "      <td>Medium</td>\n",
       "      <td>High</td>\n",
       "      <td>19024.911538</td>\n",
       "      <td>Medium</td>\n",
       "      <td>2</td>\n",
       "      <td>2</td>\n",
       "    </tr>\n",
       "    <tr>\n",
       "      <th>4</th>\n",
       "      <td>16784</td>\n",
       "      <td>2015</td>\n",
       "      <td>22800</td>\n",
       "      <td>NV</td>\n",
       "      <td>Low</td>\n",
       "      <td>High</td>\n",
       "      <td>18866.277499</td>\n",
       "      <td>Medium</td>\n",
       "      <td>2</td>\n",
       "      <td>2</td>\n",
       "    </tr>\n",
       "    <tr>\n",
       "      <th>...</th>\n",
       "      <td>...</td>\n",
       "      <td>...</td>\n",
       "      <td>...</td>\n",
       "      <td>...</td>\n",
       "      <td>...</td>\n",
       "      <td>...</td>\n",
       "      <td>...</td>\n",
       "      <td>...</td>\n",
       "      <td>...</td>\n",
       "      <td>...</td>\n",
       "    </tr>\n",
       "    <tr>\n",
       "      <th>1173843</th>\n",
       "      <td>16490</td>\n",
       "      <td>2013</td>\n",
       "      <td>28969</td>\n",
       "      <td>WA</td>\n",
       "      <td>Medium</td>\n",
       "      <td>Medium</td>\n",
       "      <td>20844.530726</td>\n",
       "      <td>High</td>\n",
       "      <td>3</td>\n",
       "      <td>2</td>\n",
       "    </tr>\n",
       "    <tr>\n",
       "      <th>1173844</th>\n",
       "      <td>14990</td>\n",
       "      <td>2013</td>\n",
       "      <td>61299</td>\n",
       "      <td>CT</td>\n",
       "      <td>Medium</td>\n",
       "      <td>High</td>\n",
       "      <td>15260.520067</td>\n",
       "      <td>Medium</td>\n",
       "      <td>3</td>\n",
       "      <td>2</td>\n",
       "    </tr>\n",
       "    <tr>\n",
       "      <th>1173845</th>\n",
       "      <td>17909</td>\n",
       "      <td>2013</td>\n",
       "      <td>36275</td>\n",
       "      <td>NC</td>\n",
       "      <td>Medium</td>\n",
       "      <td>High</td>\n",
       "      <td>22261.401575</td>\n",
       "      <td>High</td>\n",
       "      <td>3</td>\n",
       "      <td>2</td>\n",
       "    </tr>\n",
       "    <tr>\n",
       "      <th>1173846</th>\n",
       "      <td>18995</td>\n",
       "      <td>2013</td>\n",
       "      <td>43079</td>\n",
       "      <td>TX</td>\n",
       "      <td>Medium</td>\n",
       "      <td>Medium</td>\n",
       "      <td>26688.596491</td>\n",
       "      <td>High</td>\n",
       "      <td>3</td>\n",
       "      <td>2</td>\n",
       "    </tr>\n",
       "    <tr>\n",
       "      <th>1173847</th>\n",
       "      <td>16551</td>\n",
       "      <td>2013</td>\n",
       "      <td>68107</td>\n",
       "      <td>TX</td>\n",
       "      <td>Medium</td>\n",
       "      <td>High</td>\n",
       "      <td>23143.571148</td>\n",
       "      <td>High</td>\n",
       "      <td>3</td>\n",
       "      <td>2</td>\n",
       "    </tr>\n",
       "  </tbody>\n",
       "</table>\n",
       "<p>1173848 rows × 10 columns</p>\n",
       "</div>"
      ],
      "text/plain": [
       "         Price  Year  Mileage State Usage_level City_imporatnce  \\\n",
       "0        16472  2015    18681    MO         Low            High   \n",
       "1        15749  2015    27592    IN      Medium            High   \n",
       "2        16998  2015    13650    NC         Low            High   \n",
       "3        15777  2015    25195    LA      Medium            High   \n",
       "4        16784  2015    22800    NV         Low            High   \n",
       "...        ...   ...      ...   ...         ...             ...   \n",
       "1173843  16490  2013    28969    WA      Medium          Medium   \n",
       "1173844  14990  2013    61299    CT      Medium            High   \n",
       "1173845  17909  2013    36275    NC      Medium            High   \n",
       "1173846  18995  2013    43079    TX      Medium          Medium   \n",
       "1173847  16551  2013    68107    TX      Medium            High   \n",
       "\n",
       "         City_mean_price State_imporatnce  Brand_popularity  Model_level  \n",
       "0           18785.571605           Medium                 2            2  \n",
       "1           18233.158996           Medium                 2            2  \n",
       "2           22329.498000             High                 2            2  \n",
       "3           19024.911538           Medium                 2            2  \n",
       "4           18866.277499           Medium                 2            2  \n",
       "...                  ...              ...               ...          ...  \n",
       "1173843     20844.530726             High                 3            2  \n",
       "1173844     15260.520067           Medium                 3            2  \n",
       "1173845     22261.401575             High                 3            2  \n",
       "1173846     26688.596491             High                 3            2  \n",
       "1173847     23143.571148             High                 3            2  \n",
       "\n",
       "[1173848 rows x 10 columns]"
      ]
     },
     "execution_count": 28,
     "metadata": {},
     "output_type": "execute_result"
    }
   ],
   "source": [
    "new_data"
   ]
  },
  {
   "cell_type": "code",
   "execution_count": 30,
   "id": "e409e9ef",
   "metadata": {},
   "outputs": [],
   "source": [
    "import pickle"
   ]
  },
  {
   "cell_type": "code",
   "execution_count": 34,
   "id": "861fed09",
   "metadata": {},
   "outputs": [],
   "source": [
    "def oh_encoder(df):\n",
    "    num_cols = df.select_dtypes(exclude = \"object\").columns.to_list()\n",
    "    object_cols = df.select_dtypes(\"object\" ).columns.to_list()\n",
    "    \n",
    "    OH_encoder = OneHotEncoder(handle_unknown='ignore', sparse=False)\n",
    "    \n",
    "    OH_train = pd.DataFrame(OH_encoder.fit_transform(df[object_cols]))\n",
    "    cols = list(OH_encoder.get_feature_names_out())    \n",
    "    \n",
    "    \n",
    "    OH_train.index = df.index\n",
    "    \n",
    "    OH_train.columns = list(cols)\n",
    "    \n",
    "    with open(\"encoder.pkl\", \"wb\") as f: \n",
    "        pickle.dump(OH_encoder, f)\n",
    "\n",
    "    \n",
    "    \n",
    "    f_data = pd.concat([OH_train, df[num_cols]], axis = 1)\n",
    "    \n",
    "    return f_data"
   ]
  },
  {
   "cell_type": "code",
   "execution_count": 35,
   "id": "80ae23c5",
   "metadata": {},
   "outputs": [],
   "source": [
    "#New Cars Data\n",
    "final_data = oh_encoder(new_data)"
   ]
  },
  {
   "cell_type": "code",
   "execution_count": 37,
   "id": "08e2f01e",
   "metadata": {},
   "outputs": [
    {
     "data": {
      "text/html": [
       "<div>\n",
       "<style scoped>\n",
       "    .dataframe tbody tr th:only-of-type {\n",
       "        vertical-align: middle;\n",
       "    }\n",
       "\n",
       "    .dataframe tbody tr th {\n",
       "        vertical-align: top;\n",
       "    }\n",
       "\n",
       "    .dataframe thead th {\n",
       "        text-align: right;\n",
       "    }\n",
       "</style>\n",
       "<table border=\"1\" class=\"dataframe\">\n",
       "  <thead>\n",
       "    <tr style=\"text-align: right;\">\n",
       "      <th></th>\n",
       "      <th>State_ AK</th>\n",
       "      <th>State_ AL</th>\n",
       "      <th>State_ AR</th>\n",
       "      <th>State_ AZ</th>\n",
       "      <th>State_ CA</th>\n",
       "      <th>State_ CO</th>\n",
       "      <th>State_ CT</th>\n",
       "      <th>State_ DC</th>\n",
       "      <th>State_ DE</th>\n",
       "      <th>State_ FL</th>\n",
       "      <th>...</th>\n",
       "      <th>City_imporatnce_Medium</th>\n",
       "      <th>State_imporatnce_High</th>\n",
       "      <th>State_imporatnce_Low</th>\n",
       "      <th>State_imporatnce_Medium</th>\n",
       "      <th>Price</th>\n",
       "      <th>Year</th>\n",
       "      <th>Mileage</th>\n",
       "      <th>City_mean_price</th>\n",
       "      <th>Brand_popularity</th>\n",
       "      <th>Model_level</th>\n",
       "    </tr>\n",
       "  </thead>\n",
       "  <tbody>\n",
       "    <tr>\n",
       "      <th>0</th>\n",
       "      <td>0.0</td>\n",
       "      <td>0.0</td>\n",
       "      <td>0.0</td>\n",
       "      <td>0.0</td>\n",
       "      <td>0.0</td>\n",
       "      <td>0.0</td>\n",
       "      <td>0.0</td>\n",
       "      <td>0.0</td>\n",
       "      <td>0.0</td>\n",
       "      <td>0.0</td>\n",
       "      <td>...</td>\n",
       "      <td>0.0</td>\n",
       "      <td>0.0</td>\n",
       "      <td>0.0</td>\n",
       "      <td>1.0</td>\n",
       "      <td>16472</td>\n",
       "      <td>2015</td>\n",
       "      <td>18681</td>\n",
       "      <td>18785.571605</td>\n",
       "      <td>2</td>\n",
       "      <td>2</td>\n",
       "    </tr>\n",
       "    <tr>\n",
       "      <th>1</th>\n",
       "      <td>0.0</td>\n",
       "      <td>0.0</td>\n",
       "      <td>0.0</td>\n",
       "      <td>0.0</td>\n",
       "      <td>0.0</td>\n",
       "      <td>0.0</td>\n",
       "      <td>0.0</td>\n",
       "      <td>0.0</td>\n",
       "      <td>0.0</td>\n",
       "      <td>0.0</td>\n",
       "      <td>...</td>\n",
       "      <td>0.0</td>\n",
       "      <td>0.0</td>\n",
       "      <td>0.0</td>\n",
       "      <td>1.0</td>\n",
       "      <td>15749</td>\n",
       "      <td>2015</td>\n",
       "      <td>27592</td>\n",
       "      <td>18233.158996</td>\n",
       "      <td>2</td>\n",
       "      <td>2</td>\n",
       "    </tr>\n",
       "    <tr>\n",
       "      <th>2</th>\n",
       "      <td>0.0</td>\n",
       "      <td>0.0</td>\n",
       "      <td>0.0</td>\n",
       "      <td>0.0</td>\n",
       "      <td>0.0</td>\n",
       "      <td>0.0</td>\n",
       "      <td>0.0</td>\n",
       "      <td>0.0</td>\n",
       "      <td>0.0</td>\n",
       "      <td>0.0</td>\n",
       "      <td>...</td>\n",
       "      <td>0.0</td>\n",
       "      <td>1.0</td>\n",
       "      <td>0.0</td>\n",
       "      <td>0.0</td>\n",
       "      <td>16998</td>\n",
       "      <td>2015</td>\n",
       "      <td>13650</td>\n",
       "      <td>22329.498000</td>\n",
       "      <td>2</td>\n",
       "      <td>2</td>\n",
       "    </tr>\n",
       "    <tr>\n",
       "      <th>3</th>\n",
       "      <td>0.0</td>\n",
       "      <td>0.0</td>\n",
       "      <td>0.0</td>\n",
       "      <td>0.0</td>\n",
       "      <td>0.0</td>\n",
       "      <td>0.0</td>\n",
       "      <td>0.0</td>\n",
       "      <td>0.0</td>\n",
       "      <td>0.0</td>\n",
       "      <td>0.0</td>\n",
       "      <td>...</td>\n",
       "      <td>0.0</td>\n",
       "      <td>0.0</td>\n",
       "      <td>0.0</td>\n",
       "      <td>1.0</td>\n",
       "      <td>15777</td>\n",
       "      <td>2015</td>\n",
       "      <td>25195</td>\n",
       "      <td>19024.911538</td>\n",
       "      <td>2</td>\n",
       "      <td>2</td>\n",
       "    </tr>\n",
       "    <tr>\n",
       "      <th>4</th>\n",
       "      <td>0.0</td>\n",
       "      <td>0.0</td>\n",
       "      <td>0.0</td>\n",
       "      <td>0.0</td>\n",
       "      <td>0.0</td>\n",
       "      <td>0.0</td>\n",
       "      <td>0.0</td>\n",
       "      <td>0.0</td>\n",
       "      <td>0.0</td>\n",
       "      <td>0.0</td>\n",
       "      <td>...</td>\n",
       "      <td>0.0</td>\n",
       "      <td>0.0</td>\n",
       "      <td>0.0</td>\n",
       "      <td>1.0</td>\n",
       "      <td>16784</td>\n",
       "      <td>2015</td>\n",
       "      <td>22800</td>\n",
       "      <td>18866.277499</td>\n",
       "      <td>2</td>\n",
       "      <td>2</td>\n",
       "    </tr>\n",
       "  </tbody>\n",
       "</table>\n",
       "<p>5 rows × 66 columns</p>\n",
       "</div>"
      ],
      "text/plain": [
       "   State_ AK  State_ AL  State_ AR  State_ AZ  State_ CA  State_ CO  \\\n",
       "0        0.0        0.0        0.0        0.0        0.0        0.0   \n",
       "1        0.0        0.0        0.0        0.0        0.0        0.0   \n",
       "2        0.0        0.0        0.0        0.0        0.0        0.0   \n",
       "3        0.0        0.0        0.0        0.0        0.0        0.0   \n",
       "4        0.0        0.0        0.0        0.0        0.0        0.0   \n",
       "\n",
       "   State_ CT  State_ DC  State_ DE  State_ FL  ...  City_imporatnce_Medium  \\\n",
       "0        0.0        0.0        0.0        0.0  ...                     0.0   \n",
       "1        0.0        0.0        0.0        0.0  ...                     0.0   \n",
       "2        0.0        0.0        0.0        0.0  ...                     0.0   \n",
       "3        0.0        0.0        0.0        0.0  ...                     0.0   \n",
       "4        0.0        0.0        0.0        0.0  ...                     0.0   \n",
       "\n",
       "   State_imporatnce_High  State_imporatnce_Low  State_imporatnce_Medium  \\\n",
       "0                    0.0                   0.0                      1.0   \n",
       "1                    0.0                   0.0                      1.0   \n",
       "2                    1.0                   0.0                      0.0   \n",
       "3                    0.0                   0.0                      1.0   \n",
       "4                    0.0                   0.0                      1.0   \n",
       "\n",
       "   Price  Year  Mileage  City_mean_price  Brand_popularity  Model_level  \n",
       "0  16472  2015    18681     18785.571605                 2            2  \n",
       "1  15749  2015    27592     18233.158996                 2            2  \n",
       "2  16998  2015    13650     22329.498000                 2            2  \n",
       "3  15777  2015    25195     19024.911538                 2            2  \n",
       "4  16784  2015    22800     18866.277499                 2            2  \n",
       "\n",
       "[5 rows x 66 columns]"
      ]
     },
     "execution_count": 37,
     "metadata": {},
     "output_type": "execute_result"
    }
   ],
   "source": [
    "final_data.head()"
   ]
  },
  {
   "cell_type": "code",
   "execution_count": 40,
   "id": "fbc75f99",
   "metadata": {},
   "outputs": [],
   "source": [
    "#Exporting to Files:\n",
    "final_data.to_csv(\"final_master_data.csv\", index = False)"
   ]
  },
  {
   "cell_type": "code",
   "execution_count": 39,
   "id": "d5e2a5de",
   "metadata": {},
   "outputs": [],
   "source": [
    "f_data = final_data.drop(columns = [\"Price\"])\n",
    "f_target = final_data.Price"
   ]
  },
  {
   "cell_type": "code",
   "execution_count": 43,
   "id": "5a9f76d0",
   "metadata": {},
   "outputs": [],
   "source": [
    "from sklearn.model_selection import train_test_split\n",
    "train_data, test_data, train_target, test_target = train_test_split(f_data, f_target, test_size = 0.15, shuffle= True)"
   ]
  },
  {
   "cell_type": "code",
   "execution_count": 96,
   "id": "e47f7b26",
   "metadata": {},
   "outputs": [],
   "source": [
    "from sklearn.preprocessing import MinMaxScaler\n",
    "\n",
    "scaler = MinMaxScaler()\n",
    "scaler.fit(train_data)\n",
    "X_train_std = scaler.transform(train_data)\n",
    "\n",
    "scaler.fit(test_data)\n",
    "X_test_std = scaler.transform(test_data)"
   ]
  },
  {
   "cell_type": "code",
   "execution_count": 99,
   "id": "9d4e5a8f",
   "metadata": {},
   "outputs": [],
   "source": [
    "X_train_std = pd.DataFrame(X_train_std, columns = train_data.columns.to_list())\n",
    "X_test_std = pd.DataFrame(X_test_std, columns = test_data.columns.to_list())"
   ]
  },
  {
   "cell_type": "code",
   "execution_count": 101,
   "id": "a0ab9258",
   "metadata": {},
   "outputs": [],
   "source": [
    "X_train_std.to_csv(\"final_train_data_normalized.csv\", index = False)\n",
    "X_test_std.to_csv(\"final_test_data_normalized.csv\", index = False)\n",
    "# train_target.to_csv(\"final_train_target.csv\", index = False)\n",
    "# test_target.to_csv(\"final_test_target.csv\", index = False)"
   ]
  },
  {
   "cell_type": "markdown",
   "id": "0478cec0",
   "metadata": {},
   "source": [
    "<span id=\"featsel\"></span>\n",
    "## 2. Feature Selection:\n",
    "\n",
    "Selecting the most relevant features by Lasso Regression or Correlation tests. "
   ]
  },
  {
   "cell_type": "code",
   "execution_count": 46,
   "id": "34a3f12e",
   "metadata": {},
   "outputs": [],
   "source": [
    "# new_train_data   = pd.read_csv(\"new_data/train_new_data_f.csv\")\n",
    "# new_target_train = pd.read_csv(\"new_data/train_new_taget.csv\")\n",
    "# new_test_data    = pd.read_csv(\"new_data/test_new_data_f.csv\")\n",
    "# new_target_test  = pd.read_csv(\"new_data/test_new_target.csv\")"
   ]
  },
  {
   "cell_type": "markdown",
   "id": "a34aac1e",
   "metadata": {},
   "source": [
    "# Creaiting Poly features\n"
   ]
  },
  {
   "cell_type": "code",
   "execution_count": 207,
   "id": "d121469e",
   "metadata": {},
   "outputs": [],
   "source": [
    "# def poly_feat(df, features):\n",
    "#     pf = PolynomialFeatures(degree = 2, include_bias = False)\n",
    "#     fit_trans = pf.fit_transform(df[features])\n",
    "#     cols = pf.get_feature_names_out()\n",
    "#     df_fitted = pd.DataFrame(fit_trans, columns = cols)\n",
    "#     df1 = df.drop(columns = features)\n",
    "#     final_df = pd.concat([df1, df_fitted], axis = 1)\n",
    "#     final_df = final_df.drop(columns = ['Mileage Year', 'Mileage Brand_popularity', 'Year Brand_popularity'])\n",
    "#     return final_df"
   ]
  },
  {
   "cell_type": "code",
   "execution_count": 208,
   "id": "9f0dadf9",
   "metadata": {},
   "outputs": [],
   "source": [
    "# poly_features = [\"Mileage\", \"Year\", \"Brand_popularity\"]"
   ]
  },
  {
   "cell_type": "code",
   "execution_count": 47,
   "id": "2a393fc3",
   "metadata": {},
   "outputs": [],
   "source": [
    "# new_train_data_poly = poly_feat(new_train_data, poly_features)\n",
    "# new_test_data_poly = poly_feat(new_test_data, poly_features)\n",
    "# old_train_data_poly= poly_feat(old_train_data, poly_features)\n",
    "# old_test_data_poly = poly_feat(old_test_data, poly_features)"
   ]
  },
  {
   "cell_type": "markdown",
   "id": "9169c66a",
   "metadata": {},
   "source": [
    "<span id=\"model\"></span>\n",
    "## 3. Model Selection:\n",
    "\n",
    "We build the each models for the two separate datasets old and new cars, by selecting the most relevant hyper parameters in the training and validation sets."
   ]
  },
  {
   "cell_type": "markdown",
   "id": "1b4582f3",
   "metadata": {},
   "source": [
    "<span id=\"model1\"></span>\n",
    "### 3.1 Linear Regression:"
   ]
  },
  {
   "cell_type": "code",
   "execution_count": 102,
   "id": "496efdfd",
   "metadata": {},
   "outputs": [
    {
     "name": "stdout",
     "output_type": "stream",
     "text": [
      "Fitting 5 folds for each of 5 candidates, totalling 25 fits\n",
      "[CV 1/5] END ...........................alpha=0;, score=0.608 total time=  49.1s\n",
      "[CV 2/5] END ...........................alpha=0;, score=0.607 total time=   4.2s\n",
      "[CV 3/5] END ...........................alpha=0;, score=0.609 total time=   3.1s\n",
      "[CV 4/5] END ...........................alpha=0;, score=0.608 total time=   3.0s\n",
      "[CV 5/5] END ...........................alpha=0;, score=0.607 total time=   2.8s\n",
      "[CV 1/5] END .........................alpha=0.1;, score=0.608 total time=   1.1s\n",
      "[CV 2/5] END .........................alpha=0.1;, score=0.607 total time=   0.6s\n",
      "[CV 3/5] END .........................alpha=0.1;, score=0.609 total time=   0.5s\n",
      "[CV 4/5] END .........................alpha=0.1;, score=0.608 total time=   0.6s\n",
      "[CV 5/5] END .........................alpha=0.1;, score=0.607 total time=   0.5s\n",
      "[CV 1/5] END ...........................alpha=1;, score=0.608 total time=   0.5s\n",
      "[CV 2/5] END ...........................alpha=1;, score=0.607 total time=   0.5s\n",
      "[CV 3/5] END ...........................alpha=1;, score=0.609 total time=   0.6s\n",
      "[CV 4/5] END ...........................alpha=1;, score=0.608 total time=   0.6s\n",
      "[CV 5/5] END ...........................alpha=1;, score=0.607 total time=   0.6s\n",
      "[CV 1/5] END ..........................alpha=10;, score=0.608 total time=   0.6s\n",
      "[CV 2/5] END ..........................alpha=10;, score=0.607 total time=   0.5s\n",
      "[CV 3/5] END ..........................alpha=10;, score=0.609 total time=   0.7s\n",
      "[CV 4/5] END ..........................alpha=10;, score=0.608 total time=   0.6s\n",
      "[CV 5/5] END ..........................alpha=10;, score=0.607 total time=   0.6s\n",
      "[CV 1/5] END .........................alpha=100;, score=0.608 total time=   0.6s\n",
      "[CV 2/5] END .........................alpha=100;, score=0.607 total time=   0.6s\n",
      "[CV 3/5] END .........................alpha=100;, score=0.609 total time=   0.5s\n",
      "[CV 4/5] END .........................alpha=100;, score=0.608 total time=   0.6s\n",
      "[CV 5/5] END .........................alpha=100;, score=0.607 total time=   0.5s\n"
     ]
    },
    {
     "data": {
      "text/plain": [
       "GridSearchCV(cv=5, estimator=Ridge(),\n",
       "             param_grid={'alpha': [0, 0.1, 1, 10, 100]}, scoring='r2',\n",
       "             verbose=3.1)"
      ]
     },
     "execution_count": 102,
     "metadata": {},
     "output_type": "execute_result"
    }
   ],
   "source": [
    "LR_new = Ridge()\n",
    "parameters = {\"alpha\": [0, 0.1, 1, 10, 100]}\n",
    "\n",
    "GS = GridSearchCV(LR_new, parameters, scoring= \"r2\", cv = 5, verbose = 3.1)\n",
    "\n",
    "GS.fit(X_train_std, train_target)"
   ]
  },
  {
   "cell_type": "code",
   "execution_count": 103,
   "id": "59e22c96",
   "metadata": {
    "scrolled": true
   },
   "outputs": [
    {
     "data": {
      "text/plain": [
       "{'alpha': 10}"
      ]
     },
     "execution_count": 103,
     "metadata": {},
     "output_type": "execute_result"
    }
   ],
   "source": [
    "GS.best_params_"
   ]
  },
  {
   "cell_type": "markdown",
   "id": "3bfbde77",
   "metadata": {},
   "source": [
    "All of them has the same r2 scrores so we will choose alpha = 1"
   ]
  },
  {
   "cell_type": "code",
   "execution_count": 104,
   "id": "e54500a5",
   "metadata": {},
   "outputs": [],
   "source": [
    "Ridge_model = Ridge(alpha = 10, random_state = 1)\n",
    "Ridge_model.fit(X_train_std, train_target)\n",
    "predictions_ridge_new = Ridge_model.predict(X_test_std)"
   ]
  },
  {
   "cell_type": "code",
   "execution_count": 107,
   "id": "c15bd76a",
   "metadata": {},
   "outputs": [
    {
     "data": {
      "text/plain": [
       "0.6080448447788321"
      ]
     },
     "execution_count": 107,
     "metadata": {},
     "output_type": "execute_result"
    }
   ],
   "source": [
    "Ridge_model.score(X_train_std, train_target)"
   ]
  },
  {
   "cell_type": "code",
   "execution_count": 108,
   "id": "77d366a2",
   "metadata": {},
   "outputs": [
    {
     "data": {
      "text/plain": [
       "0.5777980343734019"
      ]
     },
     "execution_count": 108,
     "metadata": {},
     "output_type": "execute_result"
    }
   ],
   "source": [
    "Ridge_model.score(X_test_std, test_target)"
   ]
  },
  {
   "cell_type": "code",
   "execution_count": 59,
   "id": "90b041ae",
   "metadata": {},
   "outputs": [],
   "source": [
    "with open(\"Ridge.pkl\", \"wb\") as f: \n",
    "    pickle.dump(Ridge_model, f)"
   ]
  },
  {
   "cell_type": "markdown",
   "id": "d72c3227",
   "metadata": {},
   "source": [
    "<span id=\"model2\"></span>\n",
    "### 3.2 Decision Tree:"
   ]
  },
  {
   "cell_type": "code",
   "execution_count": 109,
   "id": "87679c58",
   "metadata": {},
   "outputs": [
    {
     "name": "stdout",
     "output_type": "stream",
     "text": [
      "Fitting 5 folds for each of 8 candidates, totalling 40 fits\n",
      "[CV 1/5] END .......................max_depth=3;, score=0.613 total time=   2.2s\n",
      "[CV 2/5] END .......................max_depth=3;, score=0.612 total time=   2.1s\n",
      "[CV 3/5] END .......................max_depth=3;, score=0.614 total time=   2.1s\n",
      "[CV 4/5] END .......................max_depth=3;, score=0.614 total time=   2.1s\n",
      "[CV 5/5] END .......................max_depth=3;, score=0.612 total time=   2.1s\n",
      "[CV 1/5] END .......................max_depth=5;, score=0.647 total time=   3.4s\n",
      "[CV 2/5] END .......................max_depth=5;, score=0.647 total time=   3.6s\n",
      "[CV 3/5] END .......................max_depth=5;, score=0.649 total time=   3.8s\n",
      "[CV 4/5] END .......................max_depth=5;, score=0.649 total time=   3.6s\n",
      "[CV 5/5] END .......................max_depth=5;, score=0.647 total time=   3.5s\n",
      "[CV 1/5] END ......................max_depth=10;, score=0.670 total time=   7.1s\n",
      "[CV 2/5] END ......................max_depth=10;, score=0.670 total time=   7.2s\n",
      "[CV 3/5] END ......................max_depth=10;, score=0.671 total time=   7.1s\n",
      "[CV 4/5] END ......................max_depth=10;, score=0.672 total time=   7.0s\n",
      "[CV 5/5] END ......................max_depth=10;, score=0.670 total time=   7.1s\n",
      "[CV 1/5] END ......................max_depth=11;, score=0.670 total time=   7.8s\n",
      "[CV 2/5] END ......................max_depth=11;, score=0.671 total time=   7.7s\n",
      "[CV 3/5] END ......................max_depth=11;, score=0.672 total time=   7.8s\n",
      "[CV 4/5] END ......................max_depth=11;, score=0.672 total time=   8.1s\n",
      "[CV 5/5] END ......................max_depth=11;, score=0.670 total time=   7.8s\n",
      "[CV 1/5] END ......................max_depth=12;, score=0.669 total time=   8.4s\n",
      "[CV 2/5] END ......................max_depth=12;, score=0.670 total time=   8.4s\n",
      "[CV 3/5] END ......................max_depth=12;, score=0.671 total time=   8.2s\n",
      "[CV 4/5] END ......................max_depth=12;, score=0.670 total time=   8.1s\n",
      "[CV 5/5] END ......................max_depth=12;, score=0.669 total time=   9.0s\n",
      "[CV 1/5] END ......................max_depth=13;, score=0.667 total time=   9.5s\n",
      "[CV 2/5] END ......................max_depth=13;, score=0.668 total time=   9.0s\n",
      "[CV 3/5] END ......................max_depth=13;, score=0.668 total time=   9.1s\n",
      "[CV 4/5] END ......................max_depth=13;, score=0.668 total time=   9.1s\n",
      "[CV 5/5] END ......................max_depth=13;, score=0.667 total time=   9.1s\n",
      "[CV 1/5] END ......................max_depth=14;, score=0.663 total time=   9.5s\n",
      "[CV 2/5] END ......................max_depth=14;, score=0.665 total time=   9.5s\n",
      "[CV 3/5] END ......................max_depth=14;, score=0.665 total time=   9.6s\n",
      "[CV 4/5] END ......................max_depth=14;, score=0.665 total time=   9.2s\n",
      "[CV 5/5] END ......................max_depth=14;, score=0.664 total time=   9.6s\n",
      "[CV 1/5] END ......................max_depth=15;, score=0.659 total time=  10.7s\n",
      "[CV 2/5] END ......................max_depth=15;, score=0.660 total time=  10.7s\n",
      "[CV 3/5] END ......................max_depth=15;, score=0.660 total time=  10.7s\n",
      "[CV 4/5] END ......................max_depth=15;, score=0.659 total time=  10.2s\n",
      "[CV 5/5] END ......................max_depth=15;, score=0.659 total time=  10.1s\n"
     ]
    },
    {
     "data": {
      "text/plain": [
       "GridSearchCV(cv=5, estimator=DecisionTreeRegressor(),\n",
       "             param_grid={'max_depth': [3, 5, 10, 11, 12, 13, 14, 15]},\n",
       "             scoring='r2', verbose=3.1)"
      ]
     },
     "execution_count": 109,
     "metadata": {},
     "output_type": "execute_result"
    }
   ],
   "source": [
    "DT_new = DecisionTreeRegressor()\n",
    "parameters = {\"max_depth\": [3,5, 10, 11,12, 13, 14, 15]}\n",
    "\n",
    "GS = GridSearchCV(DT_new, parameters, scoring= \"r2\", cv = 5, verbose = 3.1)\n",
    "\n",
    "GS.fit(X_train_std, train_target)"
   ]
  },
  {
   "cell_type": "code",
   "execution_count": 110,
   "id": "924b3acb",
   "metadata": {},
   "outputs": [
    {
     "data": {
      "text/plain": [
       "{'max_depth': 11}"
      ]
     },
     "execution_count": 110,
     "metadata": {},
     "output_type": "execute_result"
    }
   ],
   "source": [
    "GS.best_params_"
   ]
  },
  {
   "cell_type": "code",
   "execution_count": 111,
   "id": "00f4ec3e",
   "metadata": {},
   "outputs": [],
   "source": [
    "DT_new = DecisionTreeRegressor(max_depth = 11, random_state = 1)\n",
    "DT_new.fit(X_train_std, train_target)\n",
    "predictions_DT_new = DT_new.predict(X_test_std)"
   ]
  },
  {
   "cell_type": "code",
   "execution_count": 82,
   "id": "e95ff6a2",
   "metadata": {},
   "outputs": [],
   "source": [
    "with open(\"DT.pkl\", \"wb\") as f: \n",
    "    pickle.dump(DT_new, f)"
   ]
  },
  {
   "cell_type": "markdown",
   "id": "6e1580cd",
   "metadata": {},
   "source": [
    "<span id=\"model3\"></span>\n",
    "### 3.3 Random Forest:"
   ]
  },
  {
   "cell_type": "code",
   "execution_count": 112,
   "id": "0b364739",
   "metadata": {
    "scrolled": false
   },
   "outputs": [
    {
     "name": "stdout",
     "output_type": "stream",
     "text": [
      "Fitting 5 folds for each of 4 candidates, totalling 20 fits\n",
      "[CV 1/5] END ......max_depth=11, n_estimators=1;, score=0.667 total time=   5.5s\n",
      "[CV 2/5] END ......max_depth=11, n_estimators=1;, score=0.668 total time=   5.5s\n",
      "[CV 3/5] END ......max_depth=11, n_estimators=1;, score=0.668 total time=   5.4s\n",
      "[CV 4/5] END ......max_depth=11, n_estimators=1;, score=0.668 total time=   5.7s\n",
      "[CV 5/5] END ......max_depth=11, n_estimators=1;, score=0.667 total time=   5.8s\n",
      "[CV 1/5] END .....max_depth=11, n_estimators=10;, score=0.675 total time=  53.4s\n",
      "[CV 2/5] END .....max_depth=11, n_estimators=10;, score=0.676 total time=  54.2s\n",
      "[CV 3/5] END .....max_depth=11, n_estimators=10;, score=0.676 total time=  54.1s\n",
      "[CV 4/5] END .....max_depth=11, n_estimators=10;, score=0.677 total time=  52.6s\n",
      "[CV 5/5] END .....max_depth=11, n_estimators=10;, score=0.675 total time=  53.9s\n",
      "[CV 1/5] END .....max_depth=11, n_estimators=20;, score=0.676 total time= 1.8min\n",
      "[CV 2/5] END .....max_depth=11, n_estimators=20;, score=0.676 total time= 1.8min\n",
      "[CV 3/5] END .....max_depth=11, n_estimators=20;, score=0.677 total time= 1.8min\n",
      "[CV 4/5] END .....max_depth=11, n_estimators=20;, score=0.677 total time= 1.8min\n",
      "[CV 5/5] END .....max_depth=11, n_estimators=20;, score=0.675 total time= 1.8min\n",
      "[CV 1/5] END .....max_depth=11, n_estimators=30;, score=0.676 total time= 2.6min\n",
      "[CV 2/5] END .....max_depth=11, n_estimators=30;, score=0.677 total time= 2.7min\n",
      "[CV 3/5] END .....max_depth=11, n_estimators=30;, score=0.677 total time= 2.6min\n",
      "[CV 4/5] END .....max_depth=11, n_estimators=30;, score=0.678 total time= 2.7min\n",
      "[CV 5/5] END .....max_depth=11, n_estimators=30;, score=0.675 total time= 2.7min\n"
     ]
    },
    {
     "data": {
      "text/plain": [
       "GridSearchCV(cv=5, estimator=RandomForestRegressor(),\n",
       "             param_grid={'max_depth': [11], 'n_estimators': [1, 10, 20, 30]},\n",
       "             scoring='r2', verbose=3.1)"
      ]
     },
     "execution_count": 112,
     "metadata": {},
     "output_type": "execute_result"
    }
   ],
   "source": [
    "RF_new = RandomForestRegressor()\n",
    "prarmaeters = {\n",
    "    \"max_depth\": [11],\n",
    "    \"n_estimators\": [1,10,20,30]\n",
    "}\n",
    "GS = GridSearchCV(RF_new, prarmaeters, scoring= \"r2\", cv = 5, verbose = 3.1)\n",
    "\n",
    "GS.fit(X_train_std, train_target)"
   ]
  },
  {
   "cell_type": "code",
   "execution_count": 71,
   "id": "de4bfee3",
   "metadata": {},
   "outputs": [
    {
     "data": {
      "text/plain": [
       "{'max_depth': 11, 'n_estimators': 30}"
      ]
     },
     "execution_count": 71,
     "metadata": {},
     "output_type": "execute_result"
    }
   ],
   "source": [
    "GS.best_params_"
   ]
  },
  {
   "cell_type": "code",
   "execution_count": 72,
   "id": "488bf9f1",
   "metadata": {},
   "outputs": [],
   "source": [
    "RF_new = RandomForestRegressor(max_depth = 10, n_estimators= 20, random_state = 1)\n",
    "RF_new.fit(train_data, train_target)\n",
    "predictions_RF_new = RF_new.predict(test_data)"
   ]
  },
  {
   "cell_type": "code",
   "execution_count": 73,
   "id": "4a3bc2b6",
   "metadata": {},
   "outputs": [],
   "source": [
    "with open(\"RF.pkl\", \"wb\") as f: \n",
    "    pickle.dump(RF_new, f)"
   ]
  },
  {
   "cell_type": "markdown",
   "id": "b6d5b954",
   "metadata": {},
   "source": [
    "<span id=\"eval\"></span>\n",
    "## 5. Model Evaluation:\n",
    "\n",
    "We Will use two metrics to help us evaluate the models in the two test sets:\n",
    "- NRMSE: Normaalized root mean square value\n",
    "- MAPE: Mean Absolute precentage error\n",
    "- R2: Coeffecient of determination"
   ]
  },
  {
   "cell_type": "markdown",
   "id": "82ad87db",
   "metadata": {},
   "source": [
    "<span id=\"eval1\"></span>\n",
    "### 5.1: Linear Regression:"
   ]
  },
  {
   "cell_type": "code",
   "execution_count": 67,
   "id": "6d1db6fe",
   "metadata": {},
   "outputs": [],
   "source": [
    "#Ridge Regression Scores for new cars\n",
    "mape_new_ridge_error = mean_absolute_percentage_error(test_target, predictions_ridge_new)\n",
    "r2_new_ridge_score = r2_score(test_target, predictions_ridge_new)\n",
    "nrmse_new_ridge_error = (1/float(test_target.max() - test_target.min()))*(mean_squared_error(test_target, \n",
    "                                                                                             predictions_ridge_new, \n",
    "                                                                                             squared = False))"
   ]
  },
  {
   "cell_type": "code",
   "execution_count": 65,
   "id": "7219c0fb",
   "metadata": {},
   "outputs": [],
   "source": [
    "rmse_ridge = mean_squared_error(test_target, predictions_ridge_new, squared = False)"
   ]
  },
  {
   "cell_type": "code",
   "execution_count": 66,
   "id": "c8f93fa7",
   "metadata": {},
   "outputs": [
    {
     "data": {
      "text/plain": [
       "6644.458354157875"
      ]
     },
     "execution_count": 66,
     "metadata": {},
     "output_type": "execute_result"
    }
   ],
   "source": [
    "rmse_ridge"
   ]
  },
  {
   "cell_type": "code",
   "execution_count": 68,
   "id": "41bcb304",
   "metadata": {},
   "outputs": [
    {
     "data": {
      "text/plain": [
       "0.101404956262711"
      ]
     },
     "execution_count": 68,
     "metadata": {},
     "output_type": "execute_result"
    }
   ],
   "source": [
    "nrmse_new_ridge_error"
   ]
  },
  {
   "cell_type": "code",
   "execution_count": 74,
   "id": "c4437f68",
   "metadata": {},
   "outputs": [
    {
     "data": {
      "text/plain": [
       "0.6062564510705538"
      ]
     },
     "execution_count": 74,
     "metadata": {},
     "output_type": "execute_result"
    }
   ],
   "source": [
    "r2_new_ridge_score"
   ]
  },
  {
   "cell_type": "code",
   "execution_count": 75,
   "id": "ca68e0c6",
   "metadata": {},
   "outputs": [
    {
     "data": {
      "text/plain": [
       "0.3067212809206882"
      ]
     },
     "execution_count": 75,
     "metadata": {},
     "output_type": "execute_result"
    }
   ],
   "source": [
    "mape_new_ridge_error"
   ]
  },
  {
   "cell_type": "code",
   "execution_count": 76,
   "id": "33995047",
   "metadata": {},
   "outputs": [],
   "source": [
    "res_ridge_new = test_target - predictions_ridge_new"
   ]
  },
  {
   "cell_type": "code",
   "execution_count": 79,
   "id": "376eea58",
   "metadata": {},
   "outputs": [
    {
     "data": {
      "image/png": "[encoded data removed]",
      "text/plain": [
       "<Figure size 1080x360 with 1 Axes>"
      ]
     },
     "metadata": {
      "needs_background": "light"
     },
     "output_type": "display_data"
    }
   ],
   "source": [
    "#Residual Plot\n",
    "plt.figure(figsize = (15, 5))\n",
    "plt.title(\"Residuals for New Cars using Ridge regression\")\n",
    "plt.xlabel(\"Actual Values\")\n",
    "plt.ylabel(\"Residuals\")\n",
    "plt.scatter(test_target, res_ridge_new, s = 10)\n",
    "plt.grid()\n",
    "plt.style.use(\"seaborn-muted\")\n",
    "plt.show()"
   ]
  },
  {
   "cell_type": "markdown",
   "id": "5862213e",
   "metadata": {},
   "source": [
    "<span id=\"eval2\"></span>\n",
    "### 5.2 Decision Tree:"
   ]
  },
  {
   "cell_type": "code",
   "execution_count": 83,
   "id": "8b1fabe6",
   "metadata": {},
   "outputs": [
    {
     "data": {
      "text/plain": [
       "array([25820.1115942 , 24198.16312057, 33010.57116105, ...,\n",
       "       18001.03458647, 20672.10880772, 13910.12160068])"
      ]
     },
     "execution_count": 83,
     "metadata": {},
     "output_type": "execute_result"
    }
   ],
   "source": [
    "predictions_DT_new"
   ]
  },
  {
   "cell_type": "code",
   "execution_count": 87,
   "id": "570da791",
   "metadata": {},
   "outputs": [],
   "source": [
    "#Decision tree scores for new cars\n",
    "mape_new_DT_error = mean_absolute_percentage_error(test_target, predictions_DT_new)\n",
    "nrmse_new_DT_error = (1/float(test_target.max() - test_target.min()))*(mean_squared_error(test_target, \n",
    "                                                                                                  predictions_DT_new, \n",
    "                                                                                                  squared = False))\n",
    "r2_new_DT_score = r2_score(test_target, predictions_DT_new)\n",
    "rmse_DT = mean_squared_error(test_target, predictions_ridge_new, squared = False)"
   ]
  },
  {
   "cell_type": "code",
   "execution_count": 88,
   "id": "ef087978",
   "metadata": {},
   "outputs": [],
   "source": [
    "res_DT_new = test_target - predictions_DT_new"
   ]
  },
  {
   "cell_type": "code",
   "execution_count": 89,
   "id": "5fa6f45f",
   "metadata": {},
   "outputs": [
    {
     "data": {
      "image/png": "[encoded data removed]",
      "text/plain": [
       "<Figure size 1080x360 with 1 Axes>"
      ]
     },
     "metadata": {
      "needs_background": "light"
     },
     "output_type": "display_data"
    }
   ],
   "source": [
    "#Residual Plot\n",
    "plt.figure(figsize = (15, 5))\n",
    "plt.title(\"Residuals for New Cars using Decision Tree regression\")\n",
    "plt.xlabel(\"Actual Values\")\n",
    "plt.ylabel(\"Residuals\")\n",
    "plt.scatter(test_target, res_DT_new, s = 10)\n",
    "plt.grid()\n",
    "plt.style.use(\"seaborn-dark-palette\")\n",
    "plt.show()"
   ]
  },
  {
   "cell_type": "markdown",
   "id": "18d94937",
   "metadata": {},
   "source": [
    "<span id=\"eval3\"></span>\n",
    "### 5.3 Random Forest:"
   ]
  },
  {
   "cell_type": "code",
   "execution_count": 90,
   "id": "8a494967",
   "metadata": {},
   "outputs": [],
   "source": [
    "#Random Forest Regression scores for new cars\n",
    "mape_RF_new = mean_absolute_percentage_error(test_target, predictions_RF_new)\n",
    "nrmse_RF_new_error = (1/float(test_target.max() - test_target.min()))*(mean_squared_error(test_target, \n",
    "                                                                                           predictions_RF_new, \n",
    "                                                                                           squared = False))\n",
    "r2_new_RF_score = r2_score(test_target, predictions_RF_new)\n",
    "rmse_RF = mean_squared_error(test_target, predictions_ridge_new, squared = False)"
   ]
  },
  {
   "cell_type": "code",
   "execution_count": 91,
   "id": "ad5a1909",
   "metadata": {},
   "outputs": [],
   "source": [
    "res_RF_new = test_target - predictions_RF_new"
   ]
  },
  {
   "cell_type": "code",
   "execution_count": 92,
   "id": "8ff2171c",
   "metadata": {},
   "outputs": [
    {
     "data": {
      "image/png": "[encoded data removed]",
      "text/plain": [
       "<Figure size 1080x360 with 1 Axes>"
      ]
     },
     "metadata": {
      "needs_background": "light"
     },
     "output_type": "display_data"
    }
   ],
   "source": [
    "#Residual Plot\n",
    "plt.figure(figsize = (15, 5))\n",
    "plt.title(\"Residuals for New Cars using Random Forest regression\")\n",
    "plt.xlabel(\"Actual Values\")\n",
    "plt.ylabel(\"Residuals\")\n",
    "plt.scatter(test_target, res_RF_new, s = 0.8)\n",
    "plt.grid()\n",
    "plt.style.use(\"seaborn-dark-palette\")\n",
    "plt.show()"
   ]
  },
  {
   "cell_type": "markdown",
   "id": "0419ac98",
   "metadata": {},
   "source": [
    "<span id=\"eval4\"></span>\n",
    "### 5.4 Final Results and conclusions:\n",
    "\n",
    "Showing the final accuracies for all models in the two dataset together in an evaluation table, to help us decide the best model easily."
   ]
  },
  {
   "cell_type": "code",
   "execution_count": 95,
   "id": "b334f25a",
   "metadata": {},
   "outputs": [
    {
     "data": {
      "image/png": "[encoded data removed]",
      "text/plain": [
       "<Figure size 720x360 with 1 Axes>"
      ]
     },
     "metadata": {
      "needs_background": "light"
     },
     "output_type": "display_data"
    }
   ],
   "source": [
    "# Plot for New Cars\n",
    "x_labels = [\"Ridge Regression\", \"Decision Tree\", \"Random Forest\"]\n",
    "new_R2 = [r2_new_ridge_score, r2_new_DT_score, r2_new_RF_score]\n",
    "new_nrmse = [nrmse_new_ridge_error, nrmse_new_DT_error, nrmse_RF_new_error]\n",
    "new_mape = [mape_new_ridge_error, mape_new_DT_error,mape_RF_new]\n",
    "\n",
    "plt.figure(figsize = (10,5))\n",
    "plt.title(\"Different Errors for New cars for All models\")\n",
    "plt.xticks(ticks = [0,1,2],labels = x_labels)\n",
    "plt.plot(new_R2, label = \"R2 Score\")\n",
    "plt.plot(new_nrmse, label = \"NRMSE Error\")\n",
    "plt.plot(new_mape, label = \"MAPE Error\")\n",
    "plt.legend()\n",
    "plt.grid()\n",
    "plt.show()"
   ]
  },
  {
   "cell_type": "markdown",
   "id": "04f16b05",
   "metadata": {},
   "source": [
    "So For The best model it differs from metric to other:\n",
    "- NRMSE : Random Forest\n",
    "- MAPE : Random Forest\n",
    "- R2 : Random Forest"
   ]
  }
 ],
 "metadata": {
  "kernelspec": {
   "display_name": "Python 3 (ipykernel)",
   "language": "python",
   "name": "python3"
  },
  "language_info": {
   "codemirror_mode": {
    "name": "ipython",
    "version": 3
   },
   "file_extension": ".py",
   "mimetype": "text/x-python",
   "name": "python",
   "nbconvert_exporter": "python",
   "pygments_lexer": "ipython3",
   "version": "3.8.12"
  }
 },
 "nbformat": 4,
 "nbformat_minor": 5
}
